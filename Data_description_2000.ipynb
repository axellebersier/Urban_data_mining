{
  "nbformat": 4,
  "nbformat_minor": 0,
  "metadata": {
    "colab": {
      "provenance": [],
      "authorship_tag": "ABX9TyPnGABouJhqd6xpNodmCoTg",
      "include_colab_link": true
    },
    "kernelspec": {
      "name": "python3",
      "display_name": "Python 3"
    },
    "language_info": {
      "name": "python"
    }
  },
  "cells": [
    {
      "cell_type": "markdown",
      "metadata": {
        "id": "view-in-github",
        "colab_type": "text"
      },
      "source": [
        "<a href=\"https://colab.research.google.com/github/axellebersier/Urban_data_mining/blob/main/Copie_de_Data_description_2000.ipynb\" target=\"_parent\"><img src=\"https://colab.research.google.com/assets/colab-badge.svg\" alt=\"Open In Colab\"/></a>"
      ]
    },
    {
      "cell_type": "markdown",
      "source": [
        "##**Data Processing**\n"
      ],
      "metadata": {
        "id": "JhZ_GjKjv6KP"
      }
    },
    {
      "cell_type": "markdown",
      "source": [
        "##Data description"
      ],
      "metadata": {
        "id": "nqTS-R4oxXG2"
      }
    },
    {
      "cell_type": "markdown",
      "source": [
        "Set up and load the data"
      ],
      "metadata": {
        "id": "Y5_j42r381-6"
      }
    },
    {
      "cell_type": "code",
      "source": [
        "# Python ≥3.5 is required\n",
        "import sys\n",
        "assert sys.version_info >= (3, 5)\n",
        "\n",
        "# Scikit-Learn ≥0.20 is required\n",
        "import sklearn\n",
        "assert sklearn.__version__ >= \"0.20\"\n",
        "\n",
        "# Common imports\n",
        "import numpy as np\n",
        "import os\n",
        "\n",
        "# to make this notebook's output stable across runs\n",
        "rnd_seed = 42\n",
        "rnd_gen = np.random.default_rng(rnd_seed)\n",
        "\n",
        "# To plot pretty figures\n",
        "%matplotlib inline\n",
        "import matplotlib as mpl\n",
        "import matplotlib.pyplot as plt\n",
        "mpl.rc('axes', labelsize=14)\n",
        "mpl.rc('xtick', labelsize=12)\n",
        "mpl.rc('ytick', labelsize=12)\n",
        "\n",
        "# Where to save the figures\n",
        "PROJECT_ROOT_DIR = \".\"\n",
        "CHAPTER_ID = \"dim_reduction\"\n",
        "IMAGES_PATH = os.path.join(PROJECT_ROOT_DIR, \"images\", CHAPTER_ID)\n",
        "os.makedirs(IMAGES_PATH, exist_ok=True)\n",
        "\n",
        "def save_fig(fig_id, tight_layout=True, fig_extension=\"png\", resolution=300):\n",
        "    path = os.path.join(IMAGES_PATH, fig_id + \".\" + fig_extension)\n",
        "    print(\"Saving figure\", fig_id)\n",
        "    if tight_layout:\n",
        "        plt.tight_layout()\n",
        "    plt.savefig(path, format=fig_extension, dpi=resolution)"
      ],
      "metadata": {
        "id": "n6EGU9f_hOTX"
      },
      "execution_count": 33,
      "outputs": []
    },
    {
      "cell_type": "code",
      "source": [
        "import pandas as pd\n",
        "\n",
        "url_2020 = 'https://github.com/axellebersier/Urban_data_mining/raw/main/Data/c_2000_merged.xlsx'\n",
        "df_2020 = pd.read_excel(url_2020, engine='openpyxl')\n"
      ],
      "metadata": {
        "id": "pQl0AlMglnyD"
      },
      "execution_count": 34,
      "outputs": []
    },
    {
      "cell_type": "markdown",
      "source": [
        "\n",
        "##Data Description 2010"
      ],
      "metadata": {
        "id": "q2ZjPNpyxU9F"
      }
    },
    {
      "cell_type": "code",
      "source": [
        "df_2020.info()"
      ],
      "metadata": {
        "colab": {
          "base_uri": "https://localhost:8080/"
        },
        "id": "y2wZ2Xdkoo0P",
        "outputId": "c7f6e129-26d7-4798-c85f-cdbdef7db627"
      },
      "execution_count": 35,
      "outputs": [
        {
          "output_type": "stream",
          "name": "stdout",
          "text": [
            "<class 'pandas.core.frame.DataFrame'>\n",
            "RangeIndex: 2015 entries, 0 to 2014\n",
            "Data columns (total 18 columns):\n",
            " #   Column                Non-Null Count  Dtype         \n",
            "---  ------                --------------  -----         \n",
            " 0   ID                    2015 non-null   int64         \n",
            " 1   density               2015 non-null   float64       \n",
            " 2   n_nationality         2015 non-null   int64         \n",
            " 3   n_stranger            2015 non-null   int64         \n",
            " 4   Population            2015 non-null   int64         \n",
            " 5   dependency_ratio      2015 non-null   float64       \n",
            " 6   s_infrastructure      2015 non-null   int64         \n",
            " 7   s_agriculture         2015 non-null   int64         \n",
            " 8   s_forested            2015 non-null   int64         \n",
            " 9   s_improductible       2015 non-null   int64         \n",
            " 10  natural_growth        2015 non-null   int64         \n",
            " 11  p_surf_transport      2015 non-null   float64       \n",
            " 12  commune               2015 non-null   object        \n",
            " 13  no_mut_nvlle_cmne     2015 non-null   int64         \n",
            " 14  date_entree_ch        2015 non-null   datetime64[ns]\n",
            " 15  no_mut_ancienne_cmne  708 non-null    float64       \n",
            " 16  new_no_commune        2015 non-null   int64         \n",
            " 17  new_commune           2015 non-null   object        \n",
            "dtypes: datetime64[ns](1), float64(4), int64(11), object(2)\n",
            "memory usage: 283.5+ KB\n"
          ]
        }
      ]
    },
    {
      "cell_type": "code",
      "source": [
        "df_2020.describe()"
      ],
      "metadata": {
        "colab": {
          "base_uri": "https://localhost:8080/",
          "height": 364
        },
        "id": "21ECUJJsnLE3",
        "outputId": "1829a862-24b6-4a6d-9eff-1191797f5747"
      },
      "execution_count": 36,
      "outputs": [
        {
          "output_type": "execute_result",
          "data": {
            "text/plain": [
              "                ID       density  n_nationality    n_stranger     Population  \\\n",
              "count  2015.000000   2015.000000    2015.000000   2015.000000    2015.000000   \n",
              "mean   2847.134491    592.166258      20.480893    948.099256    5843.011414   \n",
              "std    2110.755715   1081.123449     130.830764   3743.707947   14675.749443   \n",
              "min       1.000000      2.540000       0.000000      0.000000      44.000000   \n",
              "25%     784.500000     88.845000       0.000000     45.000000     901.500000   \n",
              "50%    2785.000000    227.580000       2.000000    154.000000    2220.000000   \n",
              "75%    4761.000000    583.890000       9.000000    573.000000    5363.000000   \n",
              "max    6810.000000  13417.110000    2508.000000  96954.000000  337900.000000   \n",
              "\n",
              "       dependency_ratio  s_infrastructure  s_agriculture    s_forested  \\\n",
              "count       2015.000000       2015.000000    2015.000000   2015.000000   \n",
              "mean         169.741919        277.008933    2031.721092   1618.874442   \n",
              "std          150.187646        441.211835    3576.600338   3160.943191   \n",
              "min           39.572193          2.000000       0.000000      0.000000   \n",
              "25%           69.163418         66.000000     365.500000    195.000000   \n",
              "50%          133.062331        150.000000     807.000000    520.000000   \n",
              "75%          212.757974        308.000000    2166.000000   1510.000000   \n",
              "max         1505.333073       5424.000000   37704.000000  30855.000000   \n",
              "\n",
              "       s_improductible  natural_growth  p_surf_transport  no_mut_nvlle_cmne  \\\n",
              "count      2015.000000     2015.000000       2015.000000        2015.000000   \n",
              "mean       1441.282878        8.597519          7.043986        2417.991563   \n",
              "std        6590.125149       39.570927          7.212186         780.288599   \n",
              "min           0.000000     -804.000000          0.000000        1033.000000   \n",
              "25%           4.000000       -1.000000          2.470152        1708.500000   \n",
              "50%          18.000000        4.000000          4.645616        2468.000000   \n",
              "75%         108.500000       16.000000          8.575988        3106.500000   \n",
              "max       65004.000000      306.000000         49.342105        3963.000000   \n",
              "\n",
              "       no_mut_ancienne_cmne  new_no_commune  \n",
              "count            708.000000     2015.000000  \n",
              "mean            2818.762712     2846.818362  \n",
              "std              680.168562     2110.483369  \n",
              "min             1226.000000        1.000000  \n",
              "25%             2104.500000      784.500000  \n",
              "50%             3036.500000     2785.000000  \n",
              "75%             3287.250000     4758.500000  \n",
              "max             3960.000000     6810.000000  "
            ],
            "text/html": [
              "\n",
              "  <div id=\"df-65a863e6-2403-4e71-aa1a-9f392027f0de\">\n",
              "    <div class=\"colab-df-container\">\n",
              "      <div>\n",
              "<style scoped>\n",
              "    .dataframe tbody tr th:only-of-type {\n",
              "        vertical-align: middle;\n",
              "    }\n",
              "\n",
              "    .dataframe tbody tr th {\n",
              "        vertical-align: top;\n",
              "    }\n",
              "\n",
              "    .dataframe thead th {\n",
              "        text-align: right;\n",
              "    }\n",
              "</style>\n",
              "<table border=\"1\" class=\"dataframe\">\n",
              "  <thead>\n",
              "    <tr style=\"text-align: right;\">\n",
              "      <th></th>\n",
              "      <th>ID</th>\n",
              "      <th>density</th>\n",
              "      <th>n_nationality</th>\n",
              "      <th>n_stranger</th>\n",
              "      <th>Population</th>\n",
              "      <th>dependency_ratio</th>\n",
              "      <th>s_infrastructure</th>\n",
              "      <th>s_agriculture</th>\n",
              "      <th>s_forested</th>\n",
              "      <th>s_improductible</th>\n",
              "      <th>natural_growth</th>\n",
              "      <th>p_surf_transport</th>\n",
              "      <th>no_mut_nvlle_cmne</th>\n",
              "      <th>no_mut_ancienne_cmne</th>\n",
              "      <th>new_no_commune</th>\n",
              "    </tr>\n",
              "  </thead>\n",
              "  <tbody>\n",
              "    <tr>\n",
              "      <th>count</th>\n",
              "      <td>2015.000000</td>\n",
              "      <td>2015.000000</td>\n",
              "      <td>2015.000000</td>\n",
              "      <td>2015.000000</td>\n",
              "      <td>2015.000000</td>\n",
              "      <td>2015.000000</td>\n",
              "      <td>2015.000000</td>\n",
              "      <td>2015.000000</td>\n",
              "      <td>2015.000000</td>\n",
              "      <td>2015.000000</td>\n",
              "      <td>2015.000000</td>\n",
              "      <td>2015.000000</td>\n",
              "      <td>2015.000000</td>\n",
              "      <td>708.000000</td>\n",
              "      <td>2015.000000</td>\n",
              "    </tr>\n",
              "    <tr>\n",
              "      <th>mean</th>\n",
              "      <td>2847.134491</td>\n",
              "      <td>592.166258</td>\n",
              "      <td>20.480893</td>\n",
              "      <td>948.099256</td>\n",
              "      <td>5843.011414</td>\n",
              "      <td>169.741919</td>\n",
              "      <td>277.008933</td>\n",
              "      <td>2031.721092</td>\n",
              "      <td>1618.874442</td>\n",
              "      <td>1441.282878</td>\n",
              "      <td>8.597519</td>\n",
              "      <td>7.043986</td>\n",
              "      <td>2417.991563</td>\n",
              "      <td>2818.762712</td>\n",
              "      <td>2846.818362</td>\n",
              "    </tr>\n",
              "    <tr>\n",
              "      <th>std</th>\n",
              "      <td>2110.755715</td>\n",
              "      <td>1081.123449</td>\n",
              "      <td>130.830764</td>\n",
              "      <td>3743.707947</td>\n",
              "      <td>14675.749443</td>\n",
              "      <td>150.187646</td>\n",
              "      <td>441.211835</td>\n",
              "      <td>3576.600338</td>\n",
              "      <td>3160.943191</td>\n",
              "      <td>6590.125149</td>\n",
              "      <td>39.570927</td>\n",
              "      <td>7.212186</td>\n",
              "      <td>780.288599</td>\n",
              "      <td>680.168562</td>\n",
              "      <td>2110.483369</td>\n",
              "    </tr>\n",
              "    <tr>\n",
              "      <th>min</th>\n",
              "      <td>1.000000</td>\n",
              "      <td>2.540000</td>\n",
              "      <td>0.000000</td>\n",
              "      <td>0.000000</td>\n",
              "      <td>44.000000</td>\n",
              "      <td>39.572193</td>\n",
              "      <td>2.000000</td>\n",
              "      <td>0.000000</td>\n",
              "      <td>0.000000</td>\n",
              "      <td>0.000000</td>\n",
              "      <td>-804.000000</td>\n",
              "      <td>0.000000</td>\n",
              "      <td>1033.000000</td>\n",
              "      <td>1226.000000</td>\n",
              "      <td>1.000000</td>\n",
              "    </tr>\n",
              "    <tr>\n",
              "      <th>25%</th>\n",
              "      <td>784.500000</td>\n",
              "      <td>88.845000</td>\n",
              "      <td>0.000000</td>\n",
              "      <td>45.000000</td>\n",
              "      <td>901.500000</td>\n",
              "      <td>69.163418</td>\n",
              "      <td>66.000000</td>\n",
              "      <td>365.500000</td>\n",
              "      <td>195.000000</td>\n",
              "      <td>4.000000</td>\n",
              "      <td>-1.000000</td>\n",
              "      <td>2.470152</td>\n",
              "      <td>1708.500000</td>\n",
              "      <td>2104.500000</td>\n",
              "      <td>784.500000</td>\n",
              "    </tr>\n",
              "    <tr>\n",
              "      <th>50%</th>\n",
              "      <td>2785.000000</td>\n",
              "      <td>227.580000</td>\n",
              "      <td>2.000000</td>\n",
              "      <td>154.000000</td>\n",
              "      <td>2220.000000</td>\n",
              "      <td>133.062331</td>\n",
              "      <td>150.000000</td>\n",
              "      <td>807.000000</td>\n",
              "      <td>520.000000</td>\n",
              "      <td>18.000000</td>\n",
              "      <td>4.000000</td>\n",
              "      <td>4.645616</td>\n",
              "      <td>2468.000000</td>\n",
              "      <td>3036.500000</td>\n",
              "      <td>2785.000000</td>\n",
              "    </tr>\n",
              "    <tr>\n",
              "      <th>75%</th>\n",
              "      <td>4761.000000</td>\n",
              "      <td>583.890000</td>\n",
              "      <td>9.000000</td>\n",
              "      <td>573.000000</td>\n",
              "      <td>5363.000000</td>\n",
              "      <td>212.757974</td>\n",
              "      <td>308.000000</td>\n",
              "      <td>2166.000000</td>\n",
              "      <td>1510.000000</td>\n",
              "      <td>108.500000</td>\n",
              "      <td>16.000000</td>\n",
              "      <td>8.575988</td>\n",
              "      <td>3106.500000</td>\n",
              "      <td>3287.250000</td>\n",
              "      <td>4758.500000</td>\n",
              "    </tr>\n",
              "    <tr>\n",
              "      <th>max</th>\n",
              "      <td>6810.000000</td>\n",
              "      <td>13417.110000</td>\n",
              "      <td>2508.000000</td>\n",
              "      <td>96954.000000</td>\n",
              "      <td>337900.000000</td>\n",
              "      <td>1505.333073</td>\n",
              "      <td>5424.000000</td>\n",
              "      <td>37704.000000</td>\n",
              "      <td>30855.000000</td>\n",
              "      <td>65004.000000</td>\n",
              "      <td>306.000000</td>\n",
              "      <td>49.342105</td>\n",
              "      <td>3963.000000</td>\n",
              "      <td>3960.000000</td>\n",
              "      <td>6810.000000</td>\n",
              "    </tr>\n",
              "  </tbody>\n",
              "</table>\n",
              "</div>\n",
              "      <button class=\"colab-df-convert\" onclick=\"convertToInteractive('df-65a863e6-2403-4e71-aa1a-9f392027f0de')\"\n",
              "              title=\"Convert this dataframe to an interactive table.\"\n",
              "              style=\"display:none;\">\n",
              "        \n",
              "  <svg xmlns=\"http://www.w3.org/2000/svg\" height=\"24px\"viewBox=\"0 0 24 24\"\n",
              "       width=\"24px\">\n",
              "    <path d=\"M0 0h24v24H0V0z\" fill=\"none\"/>\n",
              "    <path d=\"M18.56 5.44l.94 2.06.94-2.06 2.06-.94-2.06-.94-.94-2.06-.94 2.06-2.06.94zm-11 1L8.5 8.5l.94-2.06 2.06-.94-2.06-.94L8.5 2.5l-.94 2.06-2.06.94zm10 10l.94 2.06.94-2.06 2.06-.94-2.06-.94-.94-2.06-.94 2.06-2.06.94z\"/><path d=\"M17.41 7.96l-1.37-1.37c-.4-.4-.92-.59-1.43-.59-.52 0-1.04.2-1.43.59L10.3 9.45l-7.72 7.72c-.78.78-.78 2.05 0 2.83L4 21.41c.39.39.9.59 1.41.59.51 0 1.02-.2 1.41-.59l7.78-7.78 2.81-2.81c.8-.78.8-2.07 0-2.86zM5.41 20L4 18.59l7.72-7.72 1.47 1.35L5.41 20z\"/>\n",
              "  </svg>\n",
              "      </button>\n",
              "      \n",
              "  <style>\n",
              "    .colab-df-container {\n",
              "      display:flex;\n",
              "      flex-wrap:wrap;\n",
              "      gap: 12px;\n",
              "    }\n",
              "\n",
              "    .colab-df-convert {\n",
              "      background-color: #E8F0FE;\n",
              "      border: none;\n",
              "      border-radius: 50%;\n",
              "      cursor: pointer;\n",
              "      display: none;\n",
              "      fill: #1967D2;\n",
              "      height: 32px;\n",
              "      padding: 0 0 0 0;\n",
              "      width: 32px;\n",
              "    }\n",
              "\n",
              "    .colab-df-convert:hover {\n",
              "      background-color: #E2EBFA;\n",
              "      box-shadow: 0px 1px 2px rgba(60, 64, 67, 0.3), 0px 1px 3px 1px rgba(60, 64, 67, 0.15);\n",
              "      fill: #174EA6;\n",
              "    }\n",
              "\n",
              "    [theme=dark] .colab-df-convert {\n",
              "      background-color: #3B4455;\n",
              "      fill: #D2E3FC;\n",
              "    }\n",
              "\n",
              "    [theme=dark] .colab-df-convert:hover {\n",
              "      background-color: #434B5C;\n",
              "      box-shadow: 0px 1px 3px 1px rgba(0, 0, 0, 0.15);\n",
              "      filter: drop-shadow(0px 1px 2px rgba(0, 0, 0, 0.3));\n",
              "      fill: #FFFFFF;\n",
              "    }\n",
              "  </style>\n",
              "\n",
              "      <script>\n",
              "        const buttonEl =\n",
              "          document.querySelector('#df-65a863e6-2403-4e71-aa1a-9f392027f0de button.colab-df-convert');\n",
              "        buttonEl.style.display =\n",
              "          google.colab.kernel.accessAllowed ? 'block' : 'none';\n",
              "\n",
              "        async function convertToInteractive(key) {\n",
              "          const element = document.querySelector('#df-65a863e6-2403-4e71-aa1a-9f392027f0de');\n",
              "          const dataTable =\n",
              "            await google.colab.kernel.invokeFunction('convertToInteractive',\n",
              "                                                     [key], {});\n",
              "          if (!dataTable) return;\n",
              "\n",
              "          const docLinkHtml = 'Like what you see? Visit the ' +\n",
              "            '<a target=\"_blank\" href=https://colab.research.google.com/notebooks/data_table.ipynb>data table notebook</a>'\n",
              "            + ' to learn more about interactive tables.';\n",
              "          element.innerHTML = '';\n",
              "          dataTable['output_type'] = 'display_data';\n",
              "          await google.colab.output.renderOutput(dataTable, element);\n",
              "          const docLink = document.createElement('div');\n",
              "          docLink.innerHTML = docLinkHtml;\n",
              "          element.appendChild(docLink);\n",
              "        }\n",
              "      </script>\n",
              "    </div>\n",
              "  </div>\n",
              "  "
            ]
          },
          "metadata": {},
          "execution_count": 36
        }
      ]
    },
    {
      "cell_type": "code",
      "source": [
        "df_2020.head()"
      ],
      "metadata": {
        "colab": {
          "base_uri": "https://localhost:8080/",
          "height": 340
        },
        "id": "iWURSZg9t_js",
        "outputId": "115ed9b9-4a8d-4ee1-c16d-d071aa44f7de"
      },
      "execution_count": 37,
      "outputs": [
        {
          "output_type": "execute_result",
          "data": {
            "text/plain": [
              "    ID  density  n_nationality  n_stranger  Population  dependency_ratio  \\\n",
              "0    1   195.20              2          87        1517         52.720079   \n",
              "1   14  1006.38             17         385        3840         52.765442   \n",
              "2   24    70.96              1          20         739         70.491803   \n",
              "3  159  1505.78             34         737        4930         63.991187   \n",
              "4  161  1483.72             26        1822       11542         69.161590   \n",
              "\n",
              "   s_infrastructure  s_agriculture  s_forested  s_improductible  \\\n",
              "0                90            412         246               42   \n",
              "1               116            164          81               14   \n",
              "2                65            564         387                0   \n",
              "3               127            161          61                2   \n",
              "4               318            168         298                1   \n",
              "\n",
              "   natural_growth  p_surf_transport            commune  no_mut_nvlle_cmne  \\\n",
              "0               8          4.955527    Aeugst am Albis               1071   \n",
              "1              16          5.835544  Wettswil am Albis               1070   \n",
              "2               4          3.557312     Buch am Irchel               3293   \n",
              "3              48          7.122507     Uetikon am See               1074   \n",
              "4             -20          6.997455           Zollikon               1493   \n",
              "\n",
              "  date_entree_ch  no_mut_ancienne_cmne  new_no_commune        new_commune  \n",
              "0     1976-11-15                   NaN               1    Aeugst am Albis  \n",
              "1     1976-11-15                   NaN              14  Wettswil am Albis  \n",
              "2     2013-01-01                   NaN              24     Buch am Irchel  \n",
              "3     1977-03-10                   NaN             159     Uetikon am See  \n",
              "4     1986-01-01                   NaN             161           Zollikon  "
            ],
            "text/html": [
              "\n",
              "  <div id=\"df-f542abc6-2b92-47cf-976f-753a49e93654\">\n",
              "    <div class=\"colab-df-container\">\n",
              "      <div>\n",
              "<style scoped>\n",
              "    .dataframe tbody tr th:only-of-type {\n",
              "        vertical-align: middle;\n",
              "    }\n",
              "\n",
              "    .dataframe tbody tr th {\n",
              "        vertical-align: top;\n",
              "    }\n",
              "\n",
              "    .dataframe thead th {\n",
              "        text-align: right;\n",
              "    }\n",
              "</style>\n",
              "<table border=\"1\" class=\"dataframe\">\n",
              "  <thead>\n",
              "    <tr style=\"text-align: right;\">\n",
              "      <th></th>\n",
              "      <th>ID</th>\n",
              "      <th>density</th>\n",
              "      <th>n_nationality</th>\n",
              "      <th>n_stranger</th>\n",
              "      <th>Population</th>\n",
              "      <th>dependency_ratio</th>\n",
              "      <th>s_infrastructure</th>\n",
              "      <th>s_agriculture</th>\n",
              "      <th>s_forested</th>\n",
              "      <th>s_improductible</th>\n",
              "      <th>natural_growth</th>\n",
              "      <th>p_surf_transport</th>\n",
              "      <th>commune</th>\n",
              "      <th>no_mut_nvlle_cmne</th>\n",
              "      <th>date_entree_ch</th>\n",
              "      <th>no_mut_ancienne_cmne</th>\n",
              "      <th>new_no_commune</th>\n",
              "      <th>new_commune</th>\n",
              "    </tr>\n",
              "  </thead>\n",
              "  <tbody>\n",
              "    <tr>\n",
              "      <th>0</th>\n",
              "      <td>1</td>\n",
              "      <td>195.20</td>\n",
              "      <td>2</td>\n",
              "      <td>87</td>\n",
              "      <td>1517</td>\n",
              "      <td>52.720079</td>\n",
              "      <td>90</td>\n",
              "      <td>412</td>\n",
              "      <td>246</td>\n",
              "      <td>42</td>\n",
              "      <td>8</td>\n",
              "      <td>4.955527</td>\n",
              "      <td>Aeugst am Albis</td>\n",
              "      <td>1071</td>\n",
              "      <td>1976-11-15</td>\n",
              "      <td>NaN</td>\n",
              "      <td>1</td>\n",
              "      <td>Aeugst am Albis</td>\n",
              "    </tr>\n",
              "    <tr>\n",
              "      <th>1</th>\n",
              "      <td>14</td>\n",
              "      <td>1006.38</td>\n",
              "      <td>17</td>\n",
              "      <td>385</td>\n",
              "      <td>3840</td>\n",
              "      <td>52.765442</td>\n",
              "      <td>116</td>\n",
              "      <td>164</td>\n",
              "      <td>81</td>\n",
              "      <td>14</td>\n",
              "      <td>16</td>\n",
              "      <td>5.835544</td>\n",
              "      <td>Wettswil am Albis</td>\n",
              "      <td>1070</td>\n",
              "      <td>1976-11-15</td>\n",
              "      <td>NaN</td>\n",
              "      <td>14</td>\n",
              "      <td>Wettswil am Albis</td>\n",
              "    </tr>\n",
              "    <tr>\n",
              "      <th>2</th>\n",
              "      <td>24</td>\n",
              "      <td>70.96</td>\n",
              "      <td>1</td>\n",
              "      <td>20</td>\n",
              "      <td>739</td>\n",
              "      <td>70.491803</td>\n",
              "      <td>65</td>\n",
              "      <td>564</td>\n",
              "      <td>387</td>\n",
              "      <td>0</td>\n",
              "      <td>4</td>\n",
              "      <td>3.557312</td>\n",
              "      <td>Buch am Irchel</td>\n",
              "      <td>3293</td>\n",
              "      <td>2013-01-01</td>\n",
              "      <td>NaN</td>\n",
              "      <td>24</td>\n",
              "      <td>Buch am Irchel</td>\n",
              "    </tr>\n",
              "    <tr>\n",
              "      <th>3</th>\n",
              "      <td>159</td>\n",
              "      <td>1505.78</td>\n",
              "      <td>34</td>\n",
              "      <td>737</td>\n",
              "      <td>4930</td>\n",
              "      <td>63.991187</td>\n",
              "      <td>127</td>\n",
              "      <td>161</td>\n",
              "      <td>61</td>\n",
              "      <td>2</td>\n",
              "      <td>48</td>\n",
              "      <td>7.122507</td>\n",
              "      <td>Uetikon am See</td>\n",
              "      <td>1074</td>\n",
              "      <td>1977-03-10</td>\n",
              "      <td>NaN</td>\n",
              "      <td>159</td>\n",
              "      <td>Uetikon am See</td>\n",
              "    </tr>\n",
              "    <tr>\n",
              "      <th>4</th>\n",
              "      <td>161</td>\n",
              "      <td>1483.72</td>\n",
              "      <td>26</td>\n",
              "      <td>1822</td>\n",
              "      <td>11542</td>\n",
              "      <td>69.161590</td>\n",
              "      <td>318</td>\n",
              "      <td>168</td>\n",
              "      <td>298</td>\n",
              "      <td>1</td>\n",
              "      <td>-20</td>\n",
              "      <td>6.997455</td>\n",
              "      <td>Zollikon</td>\n",
              "      <td>1493</td>\n",
              "      <td>1986-01-01</td>\n",
              "      <td>NaN</td>\n",
              "      <td>161</td>\n",
              "      <td>Zollikon</td>\n",
              "    </tr>\n",
              "  </tbody>\n",
              "</table>\n",
              "</div>\n",
              "      <button class=\"colab-df-convert\" onclick=\"convertToInteractive('df-f542abc6-2b92-47cf-976f-753a49e93654')\"\n",
              "              title=\"Convert this dataframe to an interactive table.\"\n",
              "              style=\"display:none;\">\n",
              "        \n",
              "  <svg xmlns=\"http://www.w3.org/2000/svg\" height=\"24px\"viewBox=\"0 0 24 24\"\n",
              "       width=\"24px\">\n",
              "    <path d=\"M0 0h24v24H0V0z\" fill=\"none\"/>\n",
              "    <path d=\"M18.56 5.44l.94 2.06.94-2.06 2.06-.94-2.06-.94-.94-2.06-.94 2.06-2.06.94zm-11 1L8.5 8.5l.94-2.06 2.06-.94-2.06-.94L8.5 2.5l-.94 2.06-2.06.94zm10 10l.94 2.06.94-2.06 2.06-.94-2.06-.94-.94-2.06-.94 2.06-2.06.94z\"/><path d=\"M17.41 7.96l-1.37-1.37c-.4-.4-.92-.59-1.43-.59-.52 0-1.04.2-1.43.59L10.3 9.45l-7.72 7.72c-.78.78-.78 2.05 0 2.83L4 21.41c.39.39.9.59 1.41.59.51 0 1.02-.2 1.41-.59l7.78-7.78 2.81-2.81c.8-.78.8-2.07 0-2.86zM5.41 20L4 18.59l7.72-7.72 1.47 1.35L5.41 20z\"/>\n",
              "  </svg>\n",
              "      </button>\n",
              "      \n",
              "  <style>\n",
              "    .colab-df-container {\n",
              "      display:flex;\n",
              "      flex-wrap:wrap;\n",
              "      gap: 12px;\n",
              "    }\n",
              "\n",
              "    .colab-df-convert {\n",
              "      background-color: #E8F0FE;\n",
              "      border: none;\n",
              "      border-radius: 50%;\n",
              "      cursor: pointer;\n",
              "      display: none;\n",
              "      fill: #1967D2;\n",
              "      height: 32px;\n",
              "      padding: 0 0 0 0;\n",
              "      width: 32px;\n",
              "    }\n",
              "\n",
              "    .colab-df-convert:hover {\n",
              "      background-color: #E2EBFA;\n",
              "      box-shadow: 0px 1px 2px rgba(60, 64, 67, 0.3), 0px 1px 3px 1px rgba(60, 64, 67, 0.15);\n",
              "      fill: #174EA6;\n",
              "    }\n",
              "\n",
              "    [theme=dark] .colab-df-convert {\n",
              "      background-color: #3B4455;\n",
              "      fill: #D2E3FC;\n",
              "    }\n",
              "\n",
              "    [theme=dark] .colab-df-convert:hover {\n",
              "      background-color: #434B5C;\n",
              "      box-shadow: 0px 1px 3px 1px rgba(0, 0, 0, 0.15);\n",
              "      filter: drop-shadow(0px 1px 2px rgba(0, 0, 0, 0.3));\n",
              "      fill: #FFFFFF;\n",
              "    }\n",
              "  </style>\n",
              "\n",
              "      <script>\n",
              "        const buttonEl =\n",
              "          document.querySelector('#df-f542abc6-2b92-47cf-976f-753a49e93654 button.colab-df-convert');\n",
              "        buttonEl.style.display =\n",
              "          google.colab.kernel.accessAllowed ? 'block' : 'none';\n",
              "\n",
              "        async function convertToInteractive(key) {\n",
              "          const element = document.querySelector('#df-f542abc6-2b92-47cf-976f-753a49e93654');\n",
              "          const dataTable =\n",
              "            await google.colab.kernel.invokeFunction('convertToInteractive',\n",
              "                                                     [key], {});\n",
              "          if (!dataTable) return;\n",
              "\n",
              "          const docLinkHtml = 'Like what you see? Visit the ' +\n",
              "            '<a target=\"_blank\" href=https://colab.research.google.com/notebooks/data_table.ipynb>data table notebook</a>'\n",
              "            + ' to learn more about interactive tables.';\n",
              "          element.innerHTML = '';\n",
              "          dataTable['output_type'] = 'display_data';\n",
              "          await google.colab.output.renderOutput(dataTable, element);\n",
              "          const docLink = document.createElement('div');\n",
              "          docLink.innerHTML = docLinkHtml;\n",
              "          element.appendChild(docLink);\n",
              "        }\n",
              "      </script>\n",
              "    </div>\n",
              "  </div>\n",
              "  "
            ]
          },
          "metadata": {},
          "execution_count": 37
        }
      ]
    },
    {
      "cell_type": "code",
      "source": [
        "df_2020 =  df_2020.iloc[:,1:11]\n",
        "#df_2020.head()\n",
        "\n",
        "#df_2020 = np.as(df_2020)\n",
        "#print(df_2020)\n"
      ],
      "metadata": {
        "id": "dfQxYlXOsKKy"
      },
      "execution_count": 38,
      "outputs": []
    },
    {
      "cell_type": "code",
      "source": [
        "df_2020 = pd.DataFrame(df_2020)\n",
        "corr_matrix_2020 = df_2020.corr()\n",
        "print(corr_matrix_2020)"
      ],
      "metadata": {
        "colab": {
          "base_uri": "https://localhost:8080/"
        },
        "id": "PeK0FOGhwkYr",
        "outputId": "223e0a2f-de7b-421b-fb63-040b37b686bf"
      },
      "execution_count": 39,
      "outputs": [
        {
          "output_type": "stream",
          "name": "stdout",
          "text": [
            "                   density  n_nationality  n_stranger  Population  \\\n",
            "density           1.000000       0.433822    0.525177    0.600219   \n",
            "n_nationality     0.433822       1.000000    0.843065    0.704886   \n",
            "n_stranger        0.525177       0.843065    1.000000    0.924575   \n",
            "Population        0.600219       0.704886    0.924575    1.000000   \n",
            "dependency_ratio  0.164780       0.038838    0.048834    0.140862   \n",
            "s_infrastructure  0.531781       0.757203    0.806334    0.856475   \n",
            "s_agriculture    -0.066239       0.028164    0.057934    0.132817   \n",
            "s_forested       -0.013649       0.248789    0.199330    0.214814   \n",
            "s_improductible  -0.095810      -0.006335    0.006163    0.026274   \n",
            "natural_growth    0.070361      -0.175440   -0.187954   -0.188535   \n",
            "\n",
            "                  dependency_ratio  s_infrastructure  s_agriculture  \\\n",
            "density                   0.164780          0.531781      -0.066239   \n",
            "n_nationality             0.038838          0.757203       0.028164   \n",
            "n_stranger                0.048834          0.806334       0.057934   \n",
            "Population                0.140862          0.856475       0.132817   \n",
            "dependency_ratio          1.000000          0.305374       0.502988   \n",
            "s_infrastructure          0.305374          1.000000       0.399271   \n",
            "s_agriculture             0.502988          0.399271       1.000000   \n",
            "s_forested                0.420402          0.505464       0.810927   \n",
            "s_improductible           0.261591          0.193372       0.682004   \n",
            "natural_growth            0.063424         -0.037886       0.020583   \n",
            "\n",
            "                  s_forested  s_improductible  natural_growth  \n",
            "density            -0.013649        -0.095810        0.070361  \n",
            "n_nationality       0.248789        -0.006335       -0.175440  \n",
            "n_stranger          0.199330         0.006163       -0.187954  \n",
            "Population          0.214814         0.026274       -0.188535  \n",
            "dependency_ratio    0.420402         0.261591        0.063424  \n",
            "s_infrastructure    0.505464         0.193372       -0.037886  \n",
            "s_agriculture       0.810927         0.682004        0.020583  \n",
            "s_forested          1.000000         0.733884       -0.012855  \n",
            "s_improductible     0.733884         1.000000       -0.049008  \n",
            "natural_growth     -0.012855        -0.049008        1.000000  \n"
          ]
        }
      ]
    },
    {
      "cell_type": "markdown",
      "source": [
        "##Description of the correlations for 2020"
      ],
      "metadata": {
        "id": "V-gyfB_VV-F6"
      }
    },
    {
      "cell_type": "markdown",
      "source": [
        "Correlation matrix"
      ],
      "metadata": {
        "id": "5SR4a9d0WD9S"
      }
    },
    {
      "cell_type": "code",
      "source": [
        "import seaborn as sn\n",
        "import matplotlib.pyplot as plt\n",
        "\n",
        "ax = sn.heatmap(corr_matrix_2020, annot=True)\n",
        "plt.title(\"Heatmap of correlations\")\n",
        "plt.rcParams[\"figure.figsize\"] = (20,60)\n",
        "plt.show()\n"
      ],
      "metadata": {
        "colab": {
          "base_uri": "https://localhost:8080/",
          "height": 379
        },
        "id": "UVUG6lq6xnWn",
        "outputId": "4158ad1f-6e01-41b6-cfdb-b8c8ea6e462a"
      },
      "execution_count": 40,
      "outputs": [
        {
          "output_type": "display_data",
          "data": {
            "text/plain": [
              "<Figure size 432x288 with 2 Axes>"
            ],
            "image/png": "[encoded data removed]"
          },
          "metadata": {
            "needs_background": "light"
          }
        }
      ]
    },
    {
      "cell_type": "markdown",
      "source": [
        "Principal component Analysis => cf code in R"
      ],
      "metadata": {
        "id": "WpqbX9mckmye"
      }
    },
    {
      "cell_type": "markdown",
      "source": [
        "##Number of clusters"
      ],
      "metadata": {
        "id": "LWrEyLd1lM4e"
      }
    },
    {
      "cell_type": "markdown",
      "source": [
        "Silhouette score"
      ],
      "metadata": {
        "id": "GV_Gq6FAlVJh"
      }
    },
    {
      "cell_type": "code",
      "source": [
        "from sklearn.metrics import silhouette_score\n",
        "from sklearn.preprocessing import StandardScaler\n",
        "\n",
        "#df_2020 <- np.asmatrix(df_2020)\n",
        "\n",
        "df_2020.shape\n",
        "scaler = StandardScaler()\n",
        "stdf_2020 = scaler.fit_transform(df_2020)\n",
        "print(stdf_2020)\n",
        "\n",
        "df_2020 = pd.DataFrame(stdf_2020)\n",
        "print(df_2020)\n",
        "\n",
        "df_2020.to_csv('data_standardized_2000', index = False, sep='\\t')\n",
        "df_2020.shape"
      ],
      "metadata": {
        "colab": {
          "base_uri": "https://localhost:8080/"
        },
        "id": "6KfQN4udlT3k",
        "outputId": "0298e259-4ae1-4c70-a699-9ded84545df3"
      },
      "execution_count": 41,
      "outputs": [
        {
          "output_type": "stream",
          "name": "stdout",
          "text": [
            "[[-0.36727054 -0.14129307 -0.2300695  ... -0.43443211 -0.21238295\n",
            "  -0.01510369]\n",
            " [ 0.3832278  -0.02661268 -0.15044951 ... -0.48664468 -0.21663279\n",
            "   0.18711512]\n",
            " [-0.48221657 -0.14893843 -0.24797064 ... -0.3898141  -0.2187577\n",
            "  -0.11621309]\n",
            " ...\n",
            " [-0.46666407 -0.15658379 -0.23728339 ...  0.5237476  -0.2187577\n",
            "  -0.01510369]\n",
            " [-0.46666407 -0.15658379 -0.23728339 ...  0.5237476  -0.2187577\n",
            "  -0.01510369]\n",
            " [-0.50984284 -0.13364772 -0.23942084 ... -0.05818519 -0.21663279\n",
            "  -0.11621309]]\n",
            "             0         1         2         3         4         5         6  \\\n",
            "0    -0.367271 -0.141293 -0.230069 -0.294846 -0.779364 -0.423958 -0.452979   \n",
            "1     0.383228 -0.026613 -0.150450 -0.136518 -0.779062 -0.365015 -0.522335   \n",
            "2    -0.482217 -0.148938 -0.247971 -0.347872 -0.661005 -0.480634 -0.410470   \n",
            "3     0.845269  0.103358 -0.056402 -0.062228 -0.704299 -0.340077 -0.523174   \n",
            "4     0.824860  0.042196  0.233490  0.388423 -0.669864  0.092929 -0.521217   \n",
            "...        ...       ...       ...       ...       ...       ...       ...   \n",
            "2010 -0.494161 -0.118357 -0.229268 -0.305001  0.374597 -0.278867 -0.282942   \n",
            "2011 -0.527273 -0.141293 -0.227398 -0.304797  2.617583 -0.149645  0.165080   \n",
            "2012 -0.466664 -0.156584 -0.237283 -0.315020  1.968060  0.020383  0.725528   \n",
            "2013 -0.466664 -0.156584 -0.237283 -0.315020  1.968060  0.020383  0.725528   \n",
            "2014 -0.509843 -0.133648 -0.239421 -0.313657  1.435465 -0.312873 -0.141712   \n",
            "\n",
            "             7         8         9  \n",
            "0    -0.434432 -0.212383 -0.015104  \n",
            "1    -0.486645 -0.216633  0.187115  \n",
            "2    -0.389814 -0.218758 -0.116213  \n",
            "3    -0.492973 -0.218454  0.995990  \n",
            "4    -0.417977 -0.218606 -0.722870  \n",
            "...        ...       ...       ...  \n",
            "2010 -0.162610 -0.215570 -0.267877  \n",
            "2011  0.518052 -0.205401 -0.293155  \n",
            "2012  0.523748 -0.218758 -0.015104  \n",
            "2013  0.523748 -0.218758 -0.015104  \n",
            "2014 -0.058185 -0.216633 -0.116213  \n",
            "\n",
            "[2015 rows x 10 columns]\n"
          ]
        },
        {
          "output_type": "execute_result",
          "data": {
            "text/plain": [
              "(2015, 10)"
            ]
          },
          "metadata": {},
          "execution_count": 41
        }
      ]
    },
    {
      "cell_type": "markdown",
      "source": [
        "set up to do a K-Means analysis"
      ],
      "metadata": {
        "id": "F4PqJbGvWMgF"
      }
    },
    {
      "cell_type": "code",
      "source": [
        "import matplotlib.pyplot as plt\n",
        "from sklearn.datasets import make_blobs\n",
        "from sklearn.cluster import KMeans\n",
        "from sklearn.metrics import silhouette_score\n",
        "from sklearn.preprocessing import StandardScaler"
      ],
      "metadata": {
        "id": "TQSq_I9mJAow"
      },
      "execution_count": 42,
      "outputs": []
    },
    {
      "cell_type": "markdown",
      "source": [
        "Data preprocessing and standardization"
      ],
      "metadata": {
        "id": "P1FQN9pwWTfe"
      }
    },
    {
      "cell_type": "code",
      "source": [
        "from sklearn.preprocessing import StandardScaler\n",
        "scaler = StandardScaler()\n",
        "stdf1 = scaler.fit_transform(df_2020)\n",
        "print(stdf_2020)\n",
        "df_2020 = pd.DataFrame(stdf_2020)\n",
        "print(df_2020)\n",
        "df_2020.to_csv('data_standardized', index = False, sep='\\t')\n",
        "df_2020.shape\n",
        "\n",
        "from sklearn.impute import SimpleImputer\n",
        "\n",
        "imputer = SimpleImputer(strategy='mean')\n",
        "stdf_2020= imputer.fit_transform(stdf_2020)"
      ],
      "metadata": {
        "id": "klPq3xRGSymL",
        "outputId": "ba24a904-a760-498a-9871-28c22134a039",
        "colab": {
          "base_uri": "https://localhost:8080/"
        }
      },
      "execution_count": 43,
      "outputs": [
        {
          "output_type": "stream",
          "name": "stdout",
          "text": [
            "[[-0.36727054 -0.14129307 -0.2300695  ... -0.43443211 -0.21238295\n",
            "  -0.01510369]\n",
            " [ 0.3832278  -0.02661268 -0.15044951 ... -0.48664468 -0.21663279\n",
            "   0.18711512]\n",
            " [-0.48221657 -0.14893843 -0.24797064 ... -0.3898141  -0.2187577\n",
            "  -0.11621309]\n",
            " ...\n",
            " [-0.46666407 -0.15658379 -0.23728339 ...  0.5237476  -0.2187577\n",
            "  -0.01510369]\n",
            " [-0.46666407 -0.15658379 -0.23728339 ...  0.5237476  -0.2187577\n",
            "  -0.01510369]\n",
            " [-0.50984284 -0.13364772 -0.23942084 ... -0.05818519 -0.21663279\n",
            "  -0.11621309]]\n",
            "             0         1         2         3         4         5         6  \\\n",
            "0    -0.367271 -0.141293 -0.230069 -0.294846 -0.779364 -0.423958 -0.452979   \n",
            "1     0.383228 -0.026613 -0.150450 -0.136518 -0.779062 -0.365015 -0.522335   \n",
            "2    -0.482217 -0.148938 -0.247971 -0.347872 -0.661005 -0.480634 -0.410470   \n",
            "3     0.845269  0.103358 -0.056402 -0.062228 -0.704299 -0.340077 -0.523174   \n",
            "4     0.824860  0.042196  0.233490  0.388423 -0.669864  0.092929 -0.521217   \n",
            "...        ...       ...       ...       ...       ...       ...       ...   \n",
            "2010 -0.494161 -0.118357 -0.229268 -0.305001  0.374597 -0.278867 -0.282942   \n",
            "2011 -0.527273 -0.141293 -0.227398 -0.304797  2.617583 -0.149645  0.165080   \n",
            "2012 -0.466664 -0.156584 -0.237283 -0.315020  1.968060  0.020383  0.725528   \n",
            "2013 -0.466664 -0.156584 -0.237283 -0.315020  1.968060  0.020383  0.725528   \n",
            "2014 -0.509843 -0.133648 -0.239421 -0.313657  1.435465 -0.312873 -0.141712   \n",
            "\n",
            "             7         8         9  \n",
            "0    -0.434432 -0.212383 -0.015104  \n",
            "1    -0.486645 -0.216633  0.187115  \n",
            "2    -0.389814 -0.218758 -0.116213  \n",
            "3    -0.492973 -0.218454  0.995990  \n",
            "4    -0.417977 -0.218606 -0.722870  \n",
            "...        ...       ...       ...  \n",
            "2010 -0.162610 -0.215570 -0.267877  \n",
            "2011  0.518052 -0.205401 -0.293155  \n",
            "2012  0.523748 -0.218758 -0.015104  \n",
            "2013  0.523748 -0.218758 -0.015104  \n",
            "2014 -0.058185 -0.216633 -0.116213  \n",
            "\n",
            "[2015 rows x 10 columns]\n"
          ]
        }
      ]
    },
    {
      "cell_type": "markdown",
      "source": [
        "Determination of the parameters and the number of clusters"
      ],
      "metadata": {
        "id": "Z_pFMaWZWe26"
      }
    },
    {
      "cell_type": "code",
      "source": [
        "from sklearn.cluster import KMeans\n",
        "\n",
        "\n",
        "inertias = []\n",
        "\n",
        "for i in range(1,11):\n",
        "    kmeans = KMeans(n_clusters=i)\n",
        "    kmeans.fit(stdf_2020)\n",
        "    inertias.append(kmeans.inertia_)\n",
        "\n",
        "plt.plot(range(1,11), inertias, marker='o')\n",
        "plt.title('Elbow method')\n",
        "plt.xlabel('Number of clusters')\n",
        "plt.ylabel('Inertia')\n",
        "plt.show()"
      ],
      "metadata": {
        "id": "K6zP2PbJ1R9s",
        "outputId": "33f5ed77-5506-4f47-a5d5-6bfbfbcfa4b2",
        "colab": {
          "base_uri": "https://localhost:8080/",
          "height": 1000
        }
      },
      "execution_count": 44,
      "outputs": [
        {
          "output_type": "stream",
          "name": "stderr",
          "text": [
            "/usr/local/lib/python3.8/dist-packages/sklearn/cluster/_kmeans.py:870: FutureWarning: The default value of `n_init` will change from 10 to 'auto' in 1.4. Set the value of `n_init` explicitly to suppress the warning\n",
            "  warnings.warn(\n",
            "/usr/local/lib/python3.8/dist-packages/sklearn/cluster/_kmeans.py:870: FutureWarning: The default value of `n_init` will change from 10 to 'auto' in 1.4. Set the value of `n_init` explicitly to suppress the warning\n",
            "  warnings.warn(\n",
            "/usr/local/lib/python3.8/dist-packages/sklearn/cluster/_kmeans.py:870: FutureWarning: The default value of `n_init` will change from 10 to 'auto' in 1.4. Set the value of `n_init` explicitly to suppress the warning\n",
            "  warnings.warn(\n",
            "/usr/local/lib/python3.8/dist-packages/sklearn/cluster/_kmeans.py:870: FutureWarning: The default value of `n_init` will change from 10 to 'auto' in 1.4. Set the value of `n_init` explicitly to suppress the warning\n",
            "  warnings.warn(\n",
            "/usr/local/lib/python3.8/dist-packages/sklearn/cluster/_kmeans.py:870: FutureWarning: The default value of `n_init` will change from 10 to 'auto' in 1.4. Set the value of `n_init` explicitly to suppress the warning\n",
            "  warnings.warn(\n",
            "/usr/local/lib/python3.8/dist-packages/sklearn/cluster/_kmeans.py:870: FutureWarning: The default value of `n_init` will change from 10 to 'auto' in 1.4. Set the value of `n_init` explicitly to suppress the warning\n",
            "  warnings.warn(\n",
            "/usr/local/lib/python3.8/dist-packages/sklearn/cluster/_kmeans.py:870: FutureWarning: The default value of `n_init` will change from 10 to 'auto' in 1.4. Set the value of `n_init` explicitly to suppress the warning\n",
            "  warnings.warn(\n",
            "/usr/local/lib/python3.8/dist-packages/sklearn/cluster/_kmeans.py:870: FutureWarning: The default value of `n_init` will change from 10 to 'auto' in 1.4. Set the value of `n_init` explicitly to suppress the warning\n",
            "  warnings.warn(\n",
            "/usr/local/lib/python3.8/dist-packages/sklearn/cluster/_kmeans.py:870: FutureWarning: The default value of `n_init` will change from 10 to 'auto' in 1.4. Set the value of `n_init` explicitly to suppress the warning\n",
            "  warnings.warn(\n",
            "/usr/local/lib/python3.8/dist-packages/sklearn/cluster/_kmeans.py:870: FutureWarning: The default value of `n_init` will change from 10 to 'auto' in 1.4. Set the value of `n_init` explicitly to suppress the warning\n",
            "  warnings.warn(\n"
          ]
        },
        {
          "output_type": "display_data",
          "data": {
            "text/plain": [
              "<Figure size 1440x4320 with 1 Axes>"
            ],
            "image/png": "[encoded data removed]"
          },
          "metadata": {
            "needs_background": "light"
          }
        }
      ]
    },
    {
      "cell_type": "code",
      "source": [
        "silhouette_ann= []\n",
        "for num_clusters in range(2,10):\n",
        "  # initialise kmeans\n",
        "  kmeans = KMeans(num_clusters)\n",
        "  kmeans.fit(stdf_2020)\n",
        "  cluster_labels = kmeans.labels_\n",
        "  \n",
        "# silhouette score\n",
        "  silhouette_ann.append(silhouette_score(stdf_2020, cluster_labels))\n",
        "silhouette_ann"
      ],
      "metadata": {
        "colab": {
          "base_uri": "https://localhost:8080/"
        },
        "id": "8KchPUWeqzJj",
        "outputId": "acec5f10-9ce5-4a38-863f-30ce2a6c3364"
      },
      "execution_count": 45,
      "outputs": [
        {
          "output_type": "stream",
          "name": "stderr",
          "text": [
            "/usr/local/lib/python3.8/dist-packages/sklearn/cluster/_kmeans.py:870: FutureWarning: The default value of `n_init` will change from 10 to 'auto' in 1.4. Set the value of `n_init` explicitly to suppress the warning\n",
            "  warnings.warn(\n",
            "/usr/local/lib/python3.8/dist-packages/sklearn/cluster/_kmeans.py:870: FutureWarning: The default value of `n_init` will change from 10 to 'auto' in 1.4. Set the value of `n_init` explicitly to suppress the warning\n",
            "  warnings.warn(\n",
            "/usr/local/lib/python3.8/dist-packages/sklearn/cluster/_kmeans.py:870: FutureWarning: The default value of `n_init` will change from 10 to 'auto' in 1.4. Set the value of `n_init` explicitly to suppress the warning\n",
            "  warnings.warn(\n",
            "/usr/local/lib/python3.8/dist-packages/sklearn/cluster/_kmeans.py:870: FutureWarning: The default value of `n_init` will change from 10 to 'auto' in 1.4. Set the value of `n_init` explicitly to suppress the warning\n",
            "  warnings.warn(\n",
            "/usr/local/lib/python3.8/dist-packages/sklearn/cluster/_kmeans.py:870: FutureWarning: The default value of `n_init` will change from 10 to 'auto' in 1.4. Set the value of `n_init` explicitly to suppress the warning\n",
            "  warnings.warn(\n",
            "/usr/local/lib/python3.8/dist-packages/sklearn/cluster/_kmeans.py:870: FutureWarning: The default value of `n_init` will change from 10 to 'auto' in 1.4. Set the value of `n_init` explicitly to suppress the warning\n",
            "  warnings.warn(\n",
            "/usr/local/lib/python3.8/dist-packages/sklearn/cluster/_kmeans.py:870: FutureWarning: The default value of `n_init` will change from 10 to 'auto' in 1.4. Set the value of `n_init` explicitly to suppress the warning\n",
            "  warnings.warn(\n",
            "/usr/local/lib/python3.8/dist-packages/sklearn/cluster/_kmeans.py:870: FutureWarning: The default value of `n_init` will change from 10 to 'auto' in 1.4. Set the value of `n_init` explicitly to suppress the warning\n",
            "  warnings.warn(\n"
          ]
        },
        {
          "output_type": "execute_result",
          "data": {
            "text/plain": [
              "[0.8463443131215409,\n",
              " 0.738838009538517,\n",
              " 0.7168562015502746,\n",
              " 0.5410702034351853,\n",
              " 0.5479920353486666,\n",
              " 0.5457681973294396,\n",
              " 0.4768455541249264,\n",
              " 0.42719025858630083]"
            ]
          },
          "metadata": {},
          "execution_count": 45
        }
      ]
    },
    {
      "cell_type": "code",
      "source": [
        "num_clusters\n",
        "Ncluster = range(2,10)\n",
        "Ncluster\n",
        "silhouette_ann"
      ],
      "metadata": {
        "colab": {
          "base_uri": "https://localhost:8080/"
        },
        "id": "nHIL66QEq-FU",
        "outputId": "668b6fc0-7a05-42e3-a545-7f21dead8dc8"
      },
      "execution_count": 46,
      "outputs": [
        {
          "output_type": "execute_result",
          "data": {
            "text/plain": [
              "[0.8463443131215409,\n",
              " 0.738838009538517,\n",
              " 0.7168562015502746,\n",
              " 0.5410702034351853,\n",
              " 0.5479920353486666,\n",
              " 0.5457681973294396,\n",
              " 0.4768455541249264,\n",
              " 0.42719025858630083]"
            ]
          },
          "metadata": {},
          "execution_count": 46
        }
      ]
    },
    {
      "cell_type": "code",
      "source": [
        "plt.plot(Ncluster,silhouette_ann,marker='s',c='k',lw=2)\n",
        "plt.xlabel('Number of Clusters') \n",
        "plt.ylabel('Silhouette score') \n",
        "plt.title('Silhouette Analysis for Optimal K')\n",
        "plt.show()"
      ],
      "metadata": {
        "colab": {
          "base_uri": "https://localhost:8080/",
          "height": 1000
        },
        "id": "e4FKG210rCtu",
        "outputId": "ea9ef2bc-f93d-43fe-e2fa-33ca23a87508"
      },
      "execution_count": 47,
      "outputs": [
        {
          "output_type": "display_data",
          "data": {
            "text/plain": [
              "<Figure size 1440x4320 with 1 Axes>"
            ],
            "image/png": "[encoded data removed]"
          },
          "metadata": {
            "needs_background": "light"
          }
        }
      ]
    },
    {
      "cell_type": "code",
      "source": [
        "df_2020 = pd.DataFrame(stdf_2020)"
      ],
      "metadata": {
        "id": "iNbu2cDn-MEw"
      },
      "execution_count": 48,
      "outputs": []
    },
    {
      "cell_type": "code",
      "source": [
        "df_2020"
      ],
      "metadata": {
        "colab": {
          "base_uri": "https://localhost:8080/",
          "height": 424
        },
        "id": "OJtF_gtF-oWj",
        "outputId": "c6e52d05-5ff9-4913-a3a2-1c50d4aadef3"
      },
      "execution_count": 49,
      "outputs": [
        {
          "output_type": "execute_result",
          "data": {
            "text/plain": [
              "             0         1         2         3         4         5         6  \\\n",
              "0    -0.367271 -0.141293 -0.230069 -0.294846 -0.779364 -0.423958 -0.452979   \n",
              "1     0.383228 -0.026613 -0.150450 -0.136518 -0.779062 -0.365015 -0.522335   \n",
              "2    -0.482217 -0.148938 -0.247971 -0.347872 -0.661005 -0.480634 -0.410470   \n",
              "3     0.845269  0.103358 -0.056402 -0.062228 -0.704299 -0.340077 -0.523174   \n",
              "4     0.824860  0.042196  0.233490  0.388423 -0.669864  0.092929 -0.521217   \n",
              "...        ...       ...       ...       ...       ...       ...       ...   \n",
              "2010 -0.494161 -0.118357 -0.229268 -0.305001  0.374597 -0.278867 -0.282942   \n",
              "2011 -0.527273 -0.141293 -0.227398 -0.304797  2.617583 -0.149645  0.165080   \n",
              "2012 -0.466664 -0.156584 -0.237283 -0.315020  1.968060  0.020383  0.725528   \n",
              "2013 -0.466664 -0.156584 -0.237283 -0.315020  1.968060  0.020383  0.725528   \n",
              "2014 -0.509843 -0.133648 -0.239421 -0.313657  1.435465 -0.312873 -0.141712   \n",
              "\n",
              "             7         8         9  \n",
              "0    -0.434432 -0.212383 -0.015104  \n",
              "1    -0.486645 -0.216633  0.187115  \n",
              "2    -0.389814 -0.218758 -0.116213  \n",
              "3    -0.492973 -0.218454  0.995990  \n",
              "4    -0.417977 -0.218606 -0.722870  \n",
              "...        ...       ...       ...  \n",
              "2010 -0.162610 -0.215570 -0.267877  \n",
              "2011  0.518052 -0.205401 -0.293155  \n",
              "2012  0.523748 -0.218758 -0.015104  \n",
              "2013  0.523748 -0.218758 -0.015104  \n",
              "2014 -0.058185 -0.216633 -0.116213  \n",
              "\n",
              "[2015 rows x 10 columns]"
            ],
            "text/html": [
              "\n",
              "  <div id=\"df-d7275d6c-262e-4ba1-8629-6c3696fab808\">\n",
              "    <div class=\"colab-df-container\">\n",
              "      <div>\n",
              "<style scoped>\n",
              "    .dataframe tbody tr th:only-of-type {\n",
              "        vertical-align: middle;\n",
              "    }\n",
              "\n",
              "    .dataframe tbody tr th {\n",
              "        vertical-align: top;\n",
              "    }\n",
              "\n",
              "    .dataframe thead th {\n",
              "        text-align: right;\n",
              "    }\n",
              "</style>\n",
              "<table border=\"1\" class=\"dataframe\">\n",
              "  <thead>\n",
              "    <tr style=\"text-align: right;\">\n",
              "      <th></th>\n",
              "      <th>0</th>\n",
              "      <th>1</th>\n",
              "      <th>2</th>\n",
              "      <th>3</th>\n",
              "      <th>4</th>\n",
              "      <th>5</th>\n",
              "      <th>6</th>\n",
              "      <th>7</th>\n",
              "      <th>8</th>\n",
              "      <th>9</th>\n",
              "    </tr>\n",
              "  </thead>\n",
              "  <tbody>\n",
              "    <tr>\n",
              "      <th>0</th>\n",
              "      <td>-0.367271</td>\n",
              "      <td>-0.141293</td>\n",
              "      <td>-0.230069</td>\n",
              "      <td>-0.294846</td>\n",
              "      <td>-0.779364</td>\n",
              "      <td>-0.423958</td>\n",
              "      <td>-0.452979</td>\n",
              "      <td>-0.434432</td>\n",
              "      <td>-0.212383</td>\n",
              "      <td>-0.015104</td>\n",
              "    </tr>\n",
              "    <tr>\n",
              "      <th>1</th>\n",
              "      <td>0.383228</td>\n",
              "      <td>-0.026613</td>\n",
              "      <td>-0.150450</td>\n",
              "      <td>-0.136518</td>\n",
              "      <td>-0.779062</td>\n",
              "      <td>-0.365015</td>\n",
              "      <td>-0.522335</td>\n",
              "      <td>-0.486645</td>\n",
              "      <td>-0.216633</td>\n",
              "      <td>0.187115</td>\n",
              "    </tr>\n",
              "    <tr>\n",
              "      <th>2</th>\n",
              "      <td>-0.482217</td>\n",
              "      <td>-0.148938</td>\n",
              "      <td>-0.247971</td>\n",
              "      <td>-0.347872</td>\n",
              "      <td>-0.661005</td>\n",
              "      <td>-0.480634</td>\n",
              "      <td>-0.410470</td>\n",
              "      <td>-0.389814</td>\n",
              "      <td>-0.218758</td>\n",
              "      <td>-0.116213</td>\n",
              "    </tr>\n",
              "    <tr>\n",
              "      <th>3</th>\n",
              "      <td>0.845269</td>\n",
              "      <td>0.103358</td>\n",
              "      <td>-0.056402</td>\n",
              "      <td>-0.062228</td>\n",
              "      <td>-0.704299</td>\n",
              "      <td>-0.340077</td>\n",
              "      <td>-0.523174</td>\n",
              "      <td>-0.492973</td>\n",
              "      <td>-0.218454</td>\n",
              "      <td>0.995990</td>\n",
              "    </tr>\n",
              "    <tr>\n",
              "      <th>4</th>\n",
              "      <td>0.824860</td>\n",
              "      <td>0.042196</td>\n",
              "      <td>0.233490</td>\n",
              "      <td>0.388423</td>\n",
              "      <td>-0.669864</td>\n",
              "      <td>0.092929</td>\n",
              "      <td>-0.521217</td>\n",
              "      <td>-0.417977</td>\n",
              "      <td>-0.218606</td>\n",
              "      <td>-0.722870</td>\n",
              "    </tr>\n",
              "    <tr>\n",
              "      <th>...</th>\n",
              "      <td>...</td>\n",
              "      <td>...</td>\n",
              "      <td>...</td>\n",
              "      <td>...</td>\n",
              "      <td>...</td>\n",
              "      <td>...</td>\n",
              "      <td>...</td>\n",
              "      <td>...</td>\n",
              "      <td>...</td>\n",
              "      <td>...</td>\n",
              "    </tr>\n",
              "    <tr>\n",
              "      <th>2010</th>\n",
              "      <td>-0.494161</td>\n",
              "      <td>-0.118357</td>\n",
              "      <td>-0.229268</td>\n",
              "      <td>-0.305001</td>\n",
              "      <td>0.374597</td>\n",
              "      <td>-0.278867</td>\n",
              "      <td>-0.282942</td>\n",
              "      <td>-0.162610</td>\n",
              "      <td>-0.215570</td>\n",
              "      <td>-0.267877</td>\n",
              "    </tr>\n",
              "    <tr>\n",
              "      <th>2011</th>\n",
              "      <td>-0.527273</td>\n",
              "      <td>-0.141293</td>\n",
              "      <td>-0.227398</td>\n",
              "      <td>-0.304797</td>\n",
              "      <td>2.617583</td>\n",
              "      <td>-0.149645</td>\n",
              "      <td>0.165080</td>\n",
              "      <td>0.518052</td>\n",
              "      <td>-0.205401</td>\n",
              "      <td>-0.293155</td>\n",
              "    </tr>\n",
              "    <tr>\n",
              "      <th>2012</th>\n",
              "      <td>-0.466664</td>\n",
              "      <td>-0.156584</td>\n",
              "      <td>-0.237283</td>\n",
              "      <td>-0.315020</td>\n",
              "      <td>1.968060</td>\n",
              "      <td>0.020383</td>\n",
              "      <td>0.725528</td>\n",
              "      <td>0.523748</td>\n",
              "      <td>-0.218758</td>\n",
              "      <td>-0.015104</td>\n",
              "    </tr>\n",
              "    <tr>\n",
              "      <th>2013</th>\n",
              "      <td>-0.466664</td>\n",
              "      <td>-0.156584</td>\n",
              "      <td>-0.237283</td>\n",
              "      <td>-0.315020</td>\n",
              "      <td>1.968060</td>\n",
              "      <td>0.020383</td>\n",
              "      <td>0.725528</td>\n",
              "      <td>0.523748</td>\n",
              "      <td>-0.218758</td>\n",
              "      <td>-0.015104</td>\n",
              "    </tr>\n",
              "    <tr>\n",
              "      <th>2014</th>\n",
              "      <td>-0.509843</td>\n",
              "      <td>-0.133648</td>\n",
              "      <td>-0.239421</td>\n",
              "      <td>-0.313657</td>\n",
              "      <td>1.435465</td>\n",
              "      <td>-0.312873</td>\n",
              "      <td>-0.141712</td>\n",
              "      <td>-0.058185</td>\n",
              "      <td>-0.216633</td>\n",
              "      <td>-0.116213</td>\n",
              "    </tr>\n",
              "  </tbody>\n",
              "</table>\n",
              "<p>2015 rows × 10 columns</p>\n",
              "</div>\n",
              "      <button class=\"colab-df-convert\" onclick=\"convertToInteractive('df-d7275d6c-262e-4ba1-8629-6c3696fab808')\"\n",
              "              title=\"Convert this dataframe to an interactive table.\"\n",
              "              style=\"display:none;\">\n",
              "        \n",
              "  <svg xmlns=\"http://www.w3.org/2000/svg\" height=\"24px\"viewBox=\"0 0 24 24\"\n",
              "       width=\"24px\">\n",
              "    <path d=\"M0 0h24v24H0V0z\" fill=\"none\"/>\n",
              "    <path d=\"M18.56 5.44l.94 2.06.94-2.06 2.06-.94-2.06-.94-.94-2.06-.94 2.06-2.06.94zm-11 1L8.5 8.5l.94-2.06 2.06-.94-2.06-.94L8.5 2.5l-.94 2.06-2.06.94zm10 10l.94 2.06.94-2.06 2.06-.94-2.06-.94-.94-2.06-.94 2.06-2.06.94z\"/><path d=\"M17.41 7.96l-1.37-1.37c-.4-.4-.92-.59-1.43-.59-.52 0-1.04.2-1.43.59L10.3 9.45l-7.72 7.72c-.78.78-.78 2.05 0 2.83L4 21.41c.39.39.9.59 1.41.59.51 0 1.02-.2 1.41-.59l7.78-7.78 2.81-2.81c.8-.78.8-2.07 0-2.86zM5.41 20L4 18.59l7.72-7.72 1.47 1.35L5.41 20z\"/>\n",
              "  </svg>\n",
              "      </button>\n",
              "      \n",
              "  <style>\n",
              "    .colab-df-container {\n",
              "      display:flex;\n",
              "      flex-wrap:wrap;\n",
              "      gap: 12px;\n",
              "    }\n",
              "\n",
              "    .colab-df-convert {\n",
              "      background-color: #E8F0FE;\n",
              "      border: none;\n",
              "      border-radius: 50%;\n",
              "      cursor: pointer;\n",
              "      display: none;\n",
              "      fill: #1967D2;\n",
              "      height: 32px;\n",
              "      padding: 0 0 0 0;\n",
              "      width: 32px;\n",
              "    }\n",
              "\n",
              "    .colab-df-convert:hover {\n",
              "      background-color: #E2EBFA;\n",
              "      box-shadow: 0px 1px 2px rgba(60, 64, 67, 0.3), 0px 1px 3px 1px rgba(60, 64, 67, 0.15);\n",
              "      fill: #174EA6;\n",
              "    }\n",
              "\n",
              "    [theme=dark] .colab-df-convert {\n",
              "      background-color: #3B4455;\n",
              "      fill: #D2E3FC;\n",
              "    }\n",
              "\n",
              "    [theme=dark] .colab-df-convert:hover {\n",
              "      background-color: #434B5C;\n",
              "      box-shadow: 0px 1px 3px 1px rgba(0, 0, 0, 0.15);\n",
              "      filter: drop-shadow(0px 1px 2px rgba(0, 0, 0, 0.3));\n",
              "      fill: #FFFFFF;\n",
              "    }\n",
              "  </style>\n",
              "\n",
              "      <script>\n",
              "        const buttonEl =\n",
              "          document.querySelector('#df-d7275d6c-262e-4ba1-8629-6c3696fab808 button.colab-df-convert');\n",
              "        buttonEl.style.display =\n",
              "          google.colab.kernel.accessAllowed ? 'block' : 'none';\n",
              "\n",
              "        async function convertToInteractive(key) {\n",
              "          const element = document.querySelector('#df-d7275d6c-262e-4ba1-8629-6c3696fab808');\n",
              "          const dataTable =\n",
              "            await google.colab.kernel.invokeFunction('convertToInteractive',\n",
              "                                                     [key], {});\n",
              "          if (!dataTable) return;\n",
              "\n",
              "          const docLinkHtml = 'Like what you see? Visit the ' +\n",
              "            '<a target=\"_blank\" href=https://colab.research.google.com/notebooks/data_table.ipynb>data table notebook</a>'\n",
              "            + ' to learn more about interactive tables.';\n",
              "          element.innerHTML = '';\n",
              "          dataTable['output_type'] = 'display_data';\n",
              "          await google.colab.output.renderOutput(dataTable, element);\n",
              "          const docLink = document.createElement('div');\n",
              "          docLink.innerHTML = docLinkHtml;\n",
              "          element.appendChild(docLink);\n",
              "        }\n",
              "      </script>\n",
              "    </div>\n",
              "  </div>\n",
              "  "
            ]
          },
          "metadata": {},
          "execution_count": 49
        }
      ]
    },
    {
      "cell_type": "code",
      "source": [
        "kmeans = KMeans(n_clusters=5)\n",
        "kmeans.fit(stdf1)\n",
        "print(kmeans)\n",
        "\n",
        "y_kmean = kmeans.predict(stdf1)\n",
        "df['cluster']= y_kmean"
      ],
      "metadata": {
        "id": "9xUAtc9BQF-f",
        "colab": {
          "base_uri": "https://localhost:8080/",
          "height": 278
        },
        "outputId": "a24a607c-d9d3-45a3-ffc5-109145fc9bb4"
      },
      "execution_count": 50,
      "outputs": [
        {
          "output_type": "stream",
          "name": "stderr",
          "text": [
            "/usr/local/lib/python3.8/dist-packages/sklearn/cluster/_kmeans.py:870: FutureWarning: The default value of `n_init` will change from 10 to 'auto' in 1.4. Set the value of `n_init` explicitly to suppress the warning\n",
            "  warnings.warn(\n"
          ]
        },
        {
          "output_type": "stream",
          "name": "stdout",
          "text": [
            "KMeans(n_clusters=5)\n"
          ]
        },
        {
          "output_type": "error",
          "ename": "NameError",
          "evalue": "ignored",
          "traceback": [
            "\u001b[0;31m---------------------------------------------------------------------------\u001b[0m",
            "\u001b[0;31mNameError\u001b[0m                                 Traceback (most recent call last)",
            "\u001b[0;32m<ipython-input-50-f7c01d692cd2>\u001b[0m in \u001b[0;36m<module>\u001b[0;34m\u001b[0m\n\u001b[1;32m      4\u001b[0m \u001b[0;34m\u001b[0m\u001b[0m\n\u001b[1;32m      5\u001b[0m \u001b[0my_kmean\u001b[0m \u001b[0;34m=\u001b[0m \u001b[0mkmeans\u001b[0m\u001b[0;34m.\u001b[0m\u001b[0mpredict\u001b[0m\u001b[0;34m(\u001b[0m\u001b[0mstdf1\u001b[0m\u001b[0;34m)\u001b[0m\u001b[0;34m\u001b[0m\u001b[0;34m\u001b[0m\u001b[0m\n\u001b[0;32m----> 6\u001b[0;31m \u001b[0mdf\u001b[0m\u001b[0;34m[\u001b[0m\u001b[0;34m'cluster'\u001b[0m\u001b[0;34m]\u001b[0m\u001b[0;34m=\u001b[0m \u001b[0my_kmean\u001b[0m\u001b[0;34m\u001b[0m\u001b[0;34m\u001b[0m\u001b[0m\n\u001b[0m",
            "\u001b[0;31mNameError\u001b[0m: name 'df' is not defined"
          ]
        }
      ]
    },
    {
      "cell_type": "markdown",
      "source": [
        "Same for 2010"
      ],
      "metadata": {
        "id": "s2q52GjIpYiP"
      }
    },
    {
      "cell_type": "code",
      "source": [],
      "metadata": {
        "id": "pT48LBIapbgB"
      },
      "execution_count": null,
      "outputs": []
    },
    {
      "cell_type": "markdown",
      "source": [
        "## Self-Organizing Map algorithm"
      ],
      "metadata": {
        "id": "icFD2ARkX6GD"
      }
    },
    {
      "cell_type": "markdown",
      "source": [
        "The analysis of the Self-Organizing Map algorithm has been done with R with the help of the code of Marj Tonini. Following his request, I won't make this code public. Thus, I will present the different steps and do not hesitate to write me if additional information is needed.\n",
        "\n",
        "1. Load the library 'kohonen'.\n",
        "2. Set up the model (defining the grid of the som, convert the data into a matrix.\n",
        "3. Apply the som algorithm. \n",
        "4. Plot the heatmaps with the type \"property\" of the som.\n",
        "5. Assign a number to each cluster. \n",
        "6. Describe the data repartition into each clusters"
      ],
      "metadata": {
        "id": "7cJgB0JQW43J"
      }
    }
  ]
}